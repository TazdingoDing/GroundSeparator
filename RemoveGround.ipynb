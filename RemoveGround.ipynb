{
 "cells": [
  {
   "cell_type": "code",
   "execution_count": 1,
   "metadata": {},
   "outputs": [],
   "source": [
    "import time\n",
    "import csv as c\n",
    "import numpy as np\n",
    "from scipy.spatial import cKDTree\n",
    "from sklearn.ensemble import RandomForestClassifier\n"
   ]
  },
  {
   "cell_type": "code",
   "execution_count": 7,
   "metadata": {},
   "outputs": [],
   "source": [
    "def printProgressBar (iteration, total, prefix = '', suffix = '', decimals = 1, length = 100, fill = '█'):\n",
    "    percent = (\"{0:.\" + str(decimals) + \"f}\").format(100 * (iteration / float(total)))\n",
    "    filledLength = int(length * iteration // total)\n",
    "    bar = fill * filledLength + '-' * (length - filledLength)\n",
    "    print('\\r%s |%s| %s%% %s' % (prefix, bar, percent, suffix), end = '\\r')\n",
    "    if iteration == total: \n",
    "        print()\n",
    "\n"
   ]
  },
  {
   "cell_type": "code",
   "execution_count": 2,
   "metadata": {},
   "outputs": [],
   "source": [
    "def getEigenN(matrix):\n",
    "    cov = np.cov(matrix.T)\n",
    "    val, vec = np.linalg.eig(cov)\n",
    "    srt = val.argsort()[::-1]\n",
    "    val = val[srt]\n",
    "    vec = vec[:,srt]\n",
    "    if (val[2] < 0):\n",
    "        val[2] = 0\n",
    "    val = val/sum(val)\n",
    "    return val, vec"
   ]
  },
  {
   "cell_type": "code",
   "execution_count": 3,
   "metadata": {},
   "outputs": [
    {
     "data": {
      "text/plain": [
       "RandomForestClassifier(bootstrap=True, class_weight=None, criterion='gini',\n",
       "            max_depth=5, max_features=4, max_leaf_nodes=None,\n",
       "            min_impurity_decrease=0.0, min_impurity_split=None,\n",
       "            min_samples_leaf=1, min_samples_split=2,\n",
       "            min_weight_fraction_leaf=0.0, n_estimators=10, n_jobs=1,\n",
       "            oob_score=False, random_state=None, verbose=0,\n",
       "            warm_start=False)"
      ]
     },
     "execution_count": 3,
     "metadata": {},
     "output_type": "execute_result"
    }
   ],
   "source": [
    "#建立分類器 （分地板 非地板）\n",
    "#讀取之前存的features and tag\n",
    "clf = RandomForestClassifier(max_depth=5, n_estimators=10, max_features=4)\n",
    "features = np.genfromtxt(\"features.csv\",delimiter=\",\")\n",
    "tags = np.genfromtxt(\"tags.csv\",delimiter=\",\")\n",
    "clf.fit(features, tags)"
   ]
  },
  {
   "cell_type": "code",
   "execution_count": 4,
   "metadata": {},
   "outputs": [],
   "source": [
    "#要分割的檔案（含位置）\n",
    "objName = \"WithGround.csv\""
   ]
  },
  {
   "cell_type": "code",
   "execution_count": 5,
   "metadata": {},
   "outputs": [],
   "source": [
    "#KD Tree\n",
    "testData = np.genfromtxt (objName, delimiter=\",\", usecols=(0,1,2))\n",
    "testDataKD = cKDTree(testData, leafsize=50)"
   ]
  },
  {
   "cell_type": "code",
   "execution_count": 8,
   "metadata": {},
   "outputs": [
    {
     "name": "stdout",
     "output_type": "stream",
     "text": [
      "Progress: |██████████████████████████████████████████████████| 100.0% Complete\n"
     ]
    }
   ],
   "source": [
    "#計算輸入檔案的features\n",
    "testFeatures = []\n",
    "used = []\n",
    "\n",
    "p1 = len(testData)/100\n",
    "p2 = 0\n",
    "\n",
    "printProgressBar(0, 100, prefix = 'Progress:', suffix = 'Complete', length = 50)\n",
    "for i in range(len(testData)):\n",
    "    neighborIndex = testDataKD.query_ball_point(testData[i], 1)\n",
    "    \n",
    "    \n",
    "    if len(neighborIndex) >= 3:\n",
    "        neighbors = testData[neighborIndex]\n",
    "        val, vec = getEigenN(neighbors)\n",
    "        vec = vec.T\n",
    "        \n",
    "        EV1,EV2,EV3 = val[0],val[1],val[2]\n",
    "        VT1, VT2, VT3 = vec[0],vec[1],vec[2]\n",
    "        \n",
    "        for j in range(3):\n",
    "            VT3[j] = abs(VT3[j])\n",
    "        vertical = -(VT3[2]/sum(VT3) - 1)\n",
    "\n",
    "        feature = [(EV1-EV2)/EV1, (EV2-EV3)/EV1, EV3/EV1, vertical]\n",
    "        testFeatures.append(feature)\n",
    "        used.append(i)\n",
    "    else:\n",
    "        pass\n",
    "\n",
    "    if (i > p1):\n",
    "        p2 += 1\n",
    "        p1 += len(testData)/100\n",
    "        printProgressBar(p2, 100, prefix = 'Progress:', suffix = 'Complete', length = 50)\n",
    "printProgressBar(100, 100, prefix = 'Progress:', suffix = 'Complete', length = 50)"
   ]
  },
  {
   "cell_type": "code",
   "execution_count": 9,
   "metadata": {},
   "outputs": [],
   "source": [
    "#預測輸入的檔案\n",
    "pred = clf.predict(testFeatures)"
   ]
  },
  {
   "cell_type": "code",
   "execution_count": 10,
   "metadata": {},
   "outputs": [],
   "source": [
    "#存results.csv\n",
    "with open(\"results.csv\",\"w\") as f:\n",
    "    writer = c.writer(f)\n",
    "    for i in range(len(used)):\n",
    "        if pred[i] == 1:\n",
    "            writer.writerow(testData[used[i]].tolist() + [255,0,0])\n",
    "        else:\n",
    "            writer.writerow(testData[used[i]].tolist() + [0,255,0])"
   ]
  },
  {
   "cell_type": "code",
   "execution_count": null,
   "metadata": {},
   "outputs": [],
   "source": []
  }
 ],
 "metadata": {
  "kernelspec": {
   "display_name": "Python 3",
   "language": "python",
   "name": "python3"
  },
  "language_info": {
   "codemirror_mode": {
    "name": "ipython",
    "version": 3
   },
   "file_extension": ".py",
   "mimetype": "text/x-python",
   "name": "python",
   "nbconvert_exporter": "python",
   "pygments_lexer": "ipython3",
   "version": "3.5.5"
  },
  "widgets": {
   "state": {},
   "version": "1.1.2"
  }
 },
 "nbformat": 4,
 "nbformat_minor": 2
}
